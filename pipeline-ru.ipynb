{
 "cells": [
  {
   "cell_type": "code",
   "execution_count": 1,
   "id": "0e00b411",
   "metadata": {},
   "outputs": [],
   "source": [
    "import pandas as pd\n",
    "import numpy as np\n",
    "from scipy import stats\n",
    "\n",
    "import seaborn as sns\n",
    "import matplotlib.pyplot as plt\n",
    "\n",
    "from sklearn.datasets import load_boston\n",
    "from sklearn.neighbors import KNeighborsRegressor\n",
    "from sklearn.preprocessing import StandardScaler\n",
    "from sklearn.model_selection import train_test_split, KFold, GridSearchCV\n",
    "from sklearn.linear_model import LinearRegression, ElasticNet\n",
    "from sklearn.metrics import mean_absolute_error, mean_squared_error, mean_squared_log_error\n",
    "from sklearn.inspection import permutation_importance\n",
    "\n",
    "import shap\n",
    "\n",
    "import warnings\n",
    "warnings.filterwarnings('ignore')"
   ]
  },
  {
   "cell_type": "markdown",
   "id": "eeb725e4",
   "metadata": {},
   "source": [
    "Выносим постоянные параметры в самых вверх ноутбука"
   ]
  },
  {
   "cell_type": "code",
   "execution_count": 2,
   "id": "a14a09a2",
   "metadata": {},
   "outputs": [],
   "source": [
    "TEST_SIZE = 0.2\n",
    "RANDOM_STATE = 10\n",
    "N_FOLDS = 3"
   ]
  },
  {
   "cell_type": "markdown",
   "id": "643f4891",
   "metadata": {},
   "source": [
    "**Главные моменты**:\n",
    "- Писать код согласно стандарту PEP8, можете установать расширение в Jupyter - Nbextensions и править код при помощи Autopep8\n",
    "- Если пишите методы и классы, то не забывать про Docstring + вынос методов, классов в отдельные модули или даже пакеты (если их много в notebook), чтобы они не занимали большую часть кода\n",
    "- Подписывать графики, оси\n",
    "- Делать заголовки для основных блоков кода, чтобы лучше ориентироваться в ноутбуке\n",
    "- Давать пояснения в виде комменариев в коде\n",
    "- Давать пояснения в виде текста при помощи разметки Markdown\n",
    "- Писать type hints, чтобы понимать, какие типы данных вы подаете на вход методам, а какие возвращаете"
   ]
  },
  {
   "cell_type": "markdown",
   "id": "7638b6b5",
   "metadata": {},
   "source": [
    "# Загрузка данных"
   ]
  },
  {
   "cell_type": "code",
   "execution_count": 3,
   "id": "e6b7ec86",
   "metadata": {
    "scrolled": true
   },
   "outputs": [],
   "source": [
    "data = load_boston()\n",
    "\n",
    "df = pd.DataFrame(columns=data.feature_names, data=data.data)\n",
    "df['target'] = data.target"
   ]
  },
  {
   "cell_type": "code",
   "execution_count": 4,
   "id": "8d882b9b",
   "metadata": {},
   "outputs": [
    {
     "data": {
      "text/html": [
       "<div>\n",
       "<style scoped>\n",
       "    .dataframe tbody tr th:only-of-type {\n",
       "        vertical-align: middle;\n",
       "    }\n",
       "\n",
       "    .dataframe tbody tr th {\n",
       "        vertical-align: top;\n",
       "    }\n",
       "\n",
       "    .dataframe thead th {\n",
       "        text-align: right;\n",
       "    }\n",
       "</style>\n",
       "<table border=\"1\" class=\"dataframe\">\n",
       "  <thead>\n",
       "    <tr style=\"text-align: right;\">\n",
       "      <th></th>\n",
       "      <th>CRIM</th>\n",
       "      <th>ZN</th>\n",
       "      <th>INDUS</th>\n",
       "      <th>CHAS</th>\n",
       "      <th>NOX</th>\n",
       "      <th>RM</th>\n",
       "      <th>AGE</th>\n",
       "      <th>DIS</th>\n",
       "      <th>RAD</th>\n",
       "      <th>TAX</th>\n",
       "      <th>PTRATIO</th>\n",
       "      <th>B</th>\n",
       "      <th>LSTAT</th>\n",
       "      <th>target</th>\n",
       "    </tr>\n",
       "  </thead>\n",
       "  <tbody>\n",
       "    <tr>\n",
       "      <th>0</th>\n",
       "      <td>0.00632</td>\n",
       "      <td>18.0</td>\n",
       "      <td>2.31</td>\n",
       "      <td>0.0</td>\n",
       "      <td>0.538</td>\n",
       "      <td>6.575</td>\n",
       "      <td>65.2</td>\n",
       "      <td>4.0900</td>\n",
       "      <td>1.0</td>\n",
       "      <td>296.0</td>\n",
       "      <td>15.3</td>\n",
       "      <td>396.90</td>\n",
       "      <td>4.98</td>\n",
       "      <td>24.0</td>\n",
       "    </tr>\n",
       "    <tr>\n",
       "      <th>1</th>\n",
       "      <td>0.02731</td>\n",
       "      <td>0.0</td>\n",
       "      <td>7.07</td>\n",
       "      <td>0.0</td>\n",
       "      <td>0.469</td>\n",
       "      <td>6.421</td>\n",
       "      <td>78.9</td>\n",
       "      <td>4.9671</td>\n",
       "      <td>2.0</td>\n",
       "      <td>242.0</td>\n",
       "      <td>17.8</td>\n",
       "      <td>396.90</td>\n",
       "      <td>9.14</td>\n",
       "      <td>21.6</td>\n",
       "    </tr>\n",
       "    <tr>\n",
       "      <th>2</th>\n",
       "      <td>0.02729</td>\n",
       "      <td>0.0</td>\n",
       "      <td>7.07</td>\n",
       "      <td>0.0</td>\n",
       "      <td>0.469</td>\n",
       "      <td>7.185</td>\n",
       "      <td>61.1</td>\n",
       "      <td>4.9671</td>\n",
       "      <td>2.0</td>\n",
       "      <td>242.0</td>\n",
       "      <td>17.8</td>\n",
       "      <td>392.83</td>\n",
       "      <td>4.03</td>\n",
       "      <td>34.7</td>\n",
       "    </tr>\n",
       "    <tr>\n",
       "      <th>3</th>\n",
       "      <td>0.03237</td>\n",
       "      <td>0.0</td>\n",
       "      <td>2.18</td>\n",
       "      <td>0.0</td>\n",
       "      <td>0.458</td>\n",
       "      <td>6.998</td>\n",
       "      <td>45.8</td>\n",
       "      <td>6.0622</td>\n",
       "      <td>3.0</td>\n",
       "      <td>222.0</td>\n",
       "      <td>18.7</td>\n",
       "      <td>394.63</td>\n",
       "      <td>2.94</td>\n",
       "      <td>33.4</td>\n",
       "    </tr>\n",
       "    <tr>\n",
       "      <th>4</th>\n",
       "      <td>0.06905</td>\n",
       "      <td>0.0</td>\n",
       "      <td>2.18</td>\n",
       "      <td>0.0</td>\n",
       "      <td>0.458</td>\n",
       "      <td>7.147</td>\n",
       "      <td>54.2</td>\n",
       "      <td>6.0622</td>\n",
       "      <td>3.0</td>\n",
       "      <td>222.0</td>\n",
       "      <td>18.7</td>\n",
       "      <td>396.90</td>\n",
       "      <td>5.33</td>\n",
       "      <td>36.2</td>\n",
       "    </tr>\n",
       "  </tbody>\n",
       "</table>\n",
       "</div>"
      ],
      "text/plain": [
       "      CRIM    ZN  INDUS  CHAS    NOX     RM   AGE     DIS  RAD    TAX  \\\n",
       "0  0.00632  18.0   2.31   0.0  0.538  6.575  65.2  4.0900  1.0  296.0   \n",
       "1  0.02731   0.0   7.07   0.0  0.469  6.421  78.9  4.9671  2.0  242.0   \n",
       "2  0.02729   0.0   7.07   0.0  0.469  7.185  61.1  4.9671  2.0  242.0   \n",
       "3  0.03237   0.0   2.18   0.0  0.458  6.998  45.8  6.0622  3.0  222.0   \n",
       "4  0.06905   0.0   2.18   0.0  0.458  7.147  54.2  6.0622  3.0  222.0   \n",
       "\n",
       "   PTRATIO       B  LSTAT  target  \n",
       "0     15.3  396.90   4.98    24.0  \n",
       "1     17.8  396.90   9.14    21.6  \n",
       "2     17.8  392.83   4.03    34.7  \n",
       "3     18.7  394.63   2.94    33.4  \n",
       "4     18.7  396.90   5.33    36.2  "
      ]
     },
     "execution_count": 4,
     "metadata": {},
     "output_type": "execute_result"
    }
   ],
   "source": [
    "df[:5]"
   ]
  },
  {
   "cell_type": "markdown",
   "id": "bd8d270f",
   "metadata": {},
   "source": [
    "# EDA + Feature engineering"
   ]
  },
  {
   "cell_type": "markdown",
   "id": "ce2f4a43",
   "metadata": {},
   "source": [
    "Изучаем информацию о пропусках и типах данных, а также изучаем сами даннные, выдвигаем гипотезы, строим графики, пример EDA https://youtu.be/kAwHoNqjrYU\n",
    "https://github.com/miracl1e6/credit-scoring"
   ]
  },
  {
   "cell_type": "code",
   "execution_count": 5,
   "id": "edc00dc0",
   "metadata": {},
   "outputs": [
    {
     "name": "stdout",
     "output_type": "stream",
     "text": [
      "<class 'pandas.core.frame.DataFrame'>\n",
      "RangeIndex: 506 entries, 0 to 505\n",
      "Data columns (total 14 columns):\n",
      " #   Column   Non-Null Count  Dtype  \n",
      "---  ------   --------------  -----  \n",
      " 0   CRIM     506 non-null    float64\n",
      " 1   ZN       506 non-null    float64\n",
      " 2   INDUS    506 non-null    float64\n",
      " 3   CHAS     506 non-null    float64\n",
      " 4   NOX      506 non-null    float64\n",
      " 5   RM       506 non-null    float64\n",
      " 6   AGE      506 non-null    float64\n",
      " 7   DIS      506 non-null    float64\n",
      " 8   RAD      506 non-null    float64\n",
      " 9   TAX      506 non-null    float64\n",
      " 10  PTRATIO  506 non-null    float64\n",
      " 11  B        506 non-null    float64\n",
      " 12  LSTAT    506 non-null    float64\n",
      " 13  target   506 non-null    float64\n",
      "dtypes: float64(14)\n",
      "memory usage: 55.5 KB\n"
     ]
    }
   ],
   "source": [
    "df.info()"
   ]
  },
  {
   "cell_type": "code",
   "execution_count": 6,
   "id": "1e5c9bae",
   "metadata": {},
   "outputs": [
    {
     "data": {
      "text/plain": [
       "(506, 14)"
      ]
     },
     "execution_count": 6,
     "metadata": {},
     "output_type": "execute_result"
    }
   ],
   "source": [
    "df.shape"
   ]
  },
  {
   "cell_type": "markdown",
   "id": "d17da2fb",
   "metadata": {},
   "source": [
    "Обязательно смотрим на статистики"
   ]
  },
  {
   "cell_type": "code",
   "execution_count": 7,
   "id": "e87ccb80",
   "metadata": {},
   "outputs": [
    {
     "data": {
      "text/html": [
       "<div>\n",
       "<style scoped>\n",
       "    .dataframe tbody tr th:only-of-type {\n",
       "        vertical-align: middle;\n",
       "    }\n",
       "\n",
       "    .dataframe tbody tr th {\n",
       "        vertical-align: top;\n",
       "    }\n",
       "\n",
       "    .dataframe thead th {\n",
       "        text-align: right;\n",
       "    }\n",
       "</style>\n",
       "<table border=\"1\" class=\"dataframe\">\n",
       "  <thead>\n",
       "    <tr style=\"text-align: right;\">\n",
       "      <th></th>\n",
       "      <th>CRIM</th>\n",
       "      <th>ZN</th>\n",
       "      <th>INDUS</th>\n",
       "      <th>CHAS</th>\n",
       "      <th>NOX</th>\n",
       "      <th>RM</th>\n",
       "      <th>AGE</th>\n",
       "      <th>DIS</th>\n",
       "      <th>RAD</th>\n",
       "      <th>TAX</th>\n",
       "      <th>PTRATIO</th>\n",
       "      <th>B</th>\n",
       "      <th>LSTAT</th>\n",
       "      <th>target</th>\n",
       "    </tr>\n",
       "  </thead>\n",
       "  <tbody>\n",
       "    <tr>\n",
       "      <th>count</th>\n",
       "      <td>506.000000</td>\n",
       "      <td>506.000000</td>\n",
       "      <td>506.000000</td>\n",
       "      <td>506.000000</td>\n",
       "      <td>506.000000</td>\n",
       "      <td>506.000000</td>\n",
       "      <td>506.000000</td>\n",
       "      <td>506.000000</td>\n",
       "      <td>506.000000</td>\n",
       "      <td>506.000000</td>\n",
       "      <td>506.000000</td>\n",
       "      <td>506.000000</td>\n",
       "      <td>506.000000</td>\n",
       "      <td>506.000000</td>\n",
       "    </tr>\n",
       "    <tr>\n",
       "      <th>mean</th>\n",
       "      <td>3.613524</td>\n",
       "      <td>11.363636</td>\n",
       "      <td>11.136779</td>\n",
       "      <td>0.069170</td>\n",
       "      <td>0.554695</td>\n",
       "      <td>6.284634</td>\n",
       "      <td>68.574901</td>\n",
       "      <td>3.795043</td>\n",
       "      <td>9.549407</td>\n",
       "      <td>408.237154</td>\n",
       "      <td>18.455534</td>\n",
       "      <td>356.674032</td>\n",
       "      <td>12.653063</td>\n",
       "      <td>22.532806</td>\n",
       "    </tr>\n",
       "    <tr>\n",
       "      <th>std</th>\n",
       "      <td>8.601545</td>\n",
       "      <td>23.322453</td>\n",
       "      <td>6.860353</td>\n",
       "      <td>0.253994</td>\n",
       "      <td>0.115878</td>\n",
       "      <td>0.702617</td>\n",
       "      <td>28.148861</td>\n",
       "      <td>2.105710</td>\n",
       "      <td>8.707259</td>\n",
       "      <td>168.537116</td>\n",
       "      <td>2.164946</td>\n",
       "      <td>91.294864</td>\n",
       "      <td>7.141062</td>\n",
       "      <td>9.197104</td>\n",
       "    </tr>\n",
       "    <tr>\n",
       "      <th>min</th>\n",
       "      <td>0.006320</td>\n",
       "      <td>0.000000</td>\n",
       "      <td>0.460000</td>\n",
       "      <td>0.000000</td>\n",
       "      <td>0.385000</td>\n",
       "      <td>3.561000</td>\n",
       "      <td>2.900000</td>\n",
       "      <td>1.129600</td>\n",
       "      <td>1.000000</td>\n",
       "      <td>187.000000</td>\n",
       "      <td>12.600000</td>\n",
       "      <td>0.320000</td>\n",
       "      <td>1.730000</td>\n",
       "      <td>5.000000</td>\n",
       "    </tr>\n",
       "    <tr>\n",
       "      <th>25%</th>\n",
       "      <td>0.082045</td>\n",
       "      <td>0.000000</td>\n",
       "      <td>5.190000</td>\n",
       "      <td>0.000000</td>\n",
       "      <td>0.449000</td>\n",
       "      <td>5.885500</td>\n",
       "      <td>45.025000</td>\n",
       "      <td>2.100175</td>\n",
       "      <td>4.000000</td>\n",
       "      <td>279.000000</td>\n",
       "      <td>17.400000</td>\n",
       "      <td>375.377500</td>\n",
       "      <td>6.950000</td>\n",
       "      <td>17.025000</td>\n",
       "    </tr>\n",
       "    <tr>\n",
       "      <th>50%</th>\n",
       "      <td>0.256510</td>\n",
       "      <td>0.000000</td>\n",
       "      <td>9.690000</td>\n",
       "      <td>0.000000</td>\n",
       "      <td>0.538000</td>\n",
       "      <td>6.208500</td>\n",
       "      <td>77.500000</td>\n",
       "      <td>3.207450</td>\n",
       "      <td>5.000000</td>\n",
       "      <td>330.000000</td>\n",
       "      <td>19.050000</td>\n",
       "      <td>391.440000</td>\n",
       "      <td>11.360000</td>\n",
       "      <td>21.200000</td>\n",
       "    </tr>\n",
       "    <tr>\n",
       "      <th>75%</th>\n",
       "      <td>3.677083</td>\n",
       "      <td>12.500000</td>\n",
       "      <td>18.100000</td>\n",
       "      <td>0.000000</td>\n",
       "      <td>0.624000</td>\n",
       "      <td>6.623500</td>\n",
       "      <td>94.075000</td>\n",
       "      <td>5.188425</td>\n",
       "      <td>24.000000</td>\n",
       "      <td>666.000000</td>\n",
       "      <td>20.200000</td>\n",
       "      <td>396.225000</td>\n",
       "      <td>16.955000</td>\n",
       "      <td>25.000000</td>\n",
       "    </tr>\n",
       "    <tr>\n",
       "      <th>max</th>\n",
       "      <td>88.976200</td>\n",
       "      <td>100.000000</td>\n",
       "      <td>27.740000</td>\n",
       "      <td>1.000000</td>\n",
       "      <td>0.871000</td>\n",
       "      <td>8.780000</td>\n",
       "      <td>100.000000</td>\n",
       "      <td>12.126500</td>\n",
       "      <td>24.000000</td>\n",
       "      <td>711.000000</td>\n",
       "      <td>22.000000</td>\n",
       "      <td>396.900000</td>\n",
       "      <td>37.970000</td>\n",
       "      <td>50.000000</td>\n",
       "    </tr>\n",
       "  </tbody>\n",
       "</table>\n",
       "</div>"
      ],
      "text/plain": [
       "             CRIM          ZN       INDUS        CHAS         NOX          RM  \\\n",
       "count  506.000000  506.000000  506.000000  506.000000  506.000000  506.000000   \n",
       "mean     3.613524   11.363636   11.136779    0.069170    0.554695    6.284634   \n",
       "std      8.601545   23.322453    6.860353    0.253994    0.115878    0.702617   \n",
       "min      0.006320    0.000000    0.460000    0.000000    0.385000    3.561000   \n",
       "25%      0.082045    0.000000    5.190000    0.000000    0.449000    5.885500   \n",
       "50%      0.256510    0.000000    9.690000    0.000000    0.538000    6.208500   \n",
       "75%      3.677083   12.500000   18.100000    0.000000    0.624000    6.623500   \n",
       "max     88.976200  100.000000   27.740000    1.000000    0.871000    8.780000   \n",
       "\n",
       "              AGE         DIS         RAD         TAX     PTRATIO           B  \\\n",
       "count  506.000000  506.000000  506.000000  506.000000  506.000000  506.000000   \n",
       "mean    68.574901    3.795043    9.549407  408.237154   18.455534  356.674032   \n",
       "std     28.148861    2.105710    8.707259  168.537116    2.164946   91.294864   \n",
       "min      2.900000    1.129600    1.000000  187.000000   12.600000    0.320000   \n",
       "25%     45.025000    2.100175    4.000000  279.000000   17.400000  375.377500   \n",
       "50%     77.500000    3.207450    5.000000  330.000000   19.050000  391.440000   \n",
       "75%     94.075000    5.188425   24.000000  666.000000   20.200000  396.225000   \n",
       "max    100.000000   12.126500   24.000000  711.000000   22.000000  396.900000   \n",
       "\n",
       "            LSTAT      target  \n",
       "count  506.000000  506.000000  \n",
       "mean    12.653063   22.532806  \n",
       "std      7.141062    9.197104  \n",
       "min      1.730000    5.000000  \n",
       "25%      6.950000   17.025000  \n",
       "50%     11.360000   21.200000  \n",
       "75%     16.955000   25.000000  \n",
       "max     37.970000   50.000000  "
      ]
     },
     "execution_count": 7,
     "metadata": {},
     "output_type": "execute_result"
    }
   ],
   "source": [
    "df.describe(include='float')"
   ]
  },
  {
   "cell_type": "markdown",
   "id": "8efeaae2",
   "metadata": {},
   "source": [
    "**Гипотезы**:\n",
    "\n",
    "- 1) ...\n",
    "- 2) ...\n",
    "...."
   ]
  },
  {
   "cell_type": "markdown",
   "id": "34ebb633",
   "metadata": {},
   "source": [
    "**1) Если есть пропуски, то как можно заполнить:**\n",
    "\n",
    "- нулями для типа int, float\n",
    "- -999 (наиболее невероятное значение) для типа int, float, в особенности, если хотим использовать модели на основе деревьев\n",
    "- средними (среднее арифметическое, медиана, мода (в особенности для object))\n",
    "- удаление пропусков (особенно, если их меньше 1%)\n",
    "- 'None', либо смысловыми значениями наподобие 'Не определено' и т.д.\n",
    "- сверяться с другими признаками, например, если есть дата рождения и возраст, то можно взять кол-во лет из самой даты"
   ]
  },
  {
   "cell_type": "markdown",
   "id": "d4c5110a",
   "metadata": {},
   "source": [
    "**2) Если есть выбросы, то что с ними делать:**\n",
    "\n",
    "- Удаление строк с выбросами (особенно, если их меньше 1%)\n",
    "- Предобработка выбросов (пример https://youtu.be/Vgm2ddpdnxA)\n",
    "- Логарифмирование\n",
    "- Статистические методы\n",
    "- Использование кластеризации (методы на основе плотности)\n",
    "\n",
    "Выбросы можно определить на этапе EDA, используя boxpolot, displot, статистики, методы кластеризации"
   ]
  },
  {
   "cell_type": "markdown",
   "id": "3789c820",
   "metadata": {},
   "source": [
    "**3) Перед тем, как выбрать модель нужно:**\n",
    "\n",
    "- Обязательно исследовать момент с зависимостями признаков и целевой перменной, есть ли линейная зависимость, либо она более нетривиальная, от этого далее будет зависеть выбор модели\n",
    "- Как распределена целевая переменная в задаче регрессии, если распределение target далеко от нормального (можно проверить при помощи критерия Шапиро-Уилка), то логарифмируем\n",
    "- Если имеем задачу классификации, то смотрим, есть ли дисбаланс, если он есть, то можно использовать встроенные методы в самих моделях, обычно это параметр class_weight=\"balanced\", либо SMOTE/oversampling/undersampling https://youtu.be/gZaj1aTfnZY\n",
    "- Если есть признаки типа object, то для линейных моделей, деревьев решений необходимо преобразовать категориальные данных, например при помощи One-Hot-Encoding (pandas.get_dummies() + использовать drop_first=True, чтобы не попасть в ловушку фиктивной переменной), для многих других моделей поддерживаются встроенные обработчики категориальных признаков"
   ]
  },
  {
   "cell_type": "code",
   "execution_count": 8,
   "id": "297bcd1d",
   "metadata": {},
   "outputs": [
    {
     "data": {
      "image/png": "[encoded data removed]",
      "text/plain": [
       "<Figure size 576x432 with 2 Axes>"
      ]
     },
     "metadata": {
      "needs_background": "light"
     },
     "output_type": "display_data"
    }
   ],
   "source": [
    "plt.figure(figsize=(8, 6))\n",
    "\n",
    "sns.heatmap(df.corr(method='spearman'), annot=True, fmt=\".1f\");"
   ]
  },
  {
   "cell_type": "code",
   "execution_count": 9,
   "id": "855f87a2",
   "metadata": {},
   "outputs": [
    {
     "data": {
      "image/png": "[encoded data removed]",
      "text/plain": [
       "<Figure size 360x360 with 1 Axes>"
      ]
     },
     "metadata": {
      "needs_background": "light"
     },
     "output_type": "display_data"
    }
   ],
   "source": [
    "sns.displot(df.target, bins=100, kde=True)\n",
    "plt.title('Распределение целевой переменной target');"
   ]
  },
  {
   "cell_type": "code",
   "execution_count": 10,
   "id": "15efc242",
   "metadata": {},
   "outputs": [
    {
     "name": "stdout",
     "output_type": "stream",
     "text": [
      "ShapiroResult(statistic=0.9171748757362366, pvalue=4.940195786292171e-16)\n"
     ]
    }
   ],
   "source": [
    "print(stats.shapiro(df.target));"
   ]
  },
  {
   "cell_type": "code",
   "execution_count": 11,
   "id": "58006051",
   "metadata": {},
   "outputs": [],
   "source": [
    "df = df.assign(log_target=np.log(df.target + 1))"
   ]
  },
  {
   "cell_type": "code",
   "execution_count": 12,
   "id": "0e7cfd85",
   "metadata": {},
   "outputs": [
    {
     "name": "stdout",
     "output_type": "stream",
     "text": [
      "ShapiroResult(statistic=0.9783117175102234, pvalue=7.716016625636257e-07)\n"
     ]
    }
   ],
   "source": [
    "print(stats.shapiro(df.log_target));"
   ]
  },
  {
   "cell_type": "code",
   "execution_count": 13,
   "id": "ea4de48d",
   "metadata": {},
   "outputs": [
    {
     "data": {
      "image/png": "[encoded data removed]",
      "text/plain": [
       "<Figure size 360x360 with 1 Axes>"
      ]
     },
     "metadata": {
      "needs_background": "light"
     },
     "output_type": "display_data"
    }
   ],
   "source": [
    "sns.displot(df.log_target, bins=100, kde=True)\n",
    "plt.title('Распределение целевой переменной target после логарифмирования');"
   ]
  },
  {
   "cell_type": "markdown",
   "id": "34e15619",
   "metadata": {},
   "source": [
    "# Моделирование"
   ]
  },
  {
   "cell_type": "markdown",
   "id": "c686083b",
   "metadata": {},
   "source": [
    "**4) Нормализация:**\n",
    "    \n",
    "- При использовании линейных моделей\n",
    "- При использовании метрических алгоритмов, например KNN\n",
    "- При использовании нейронных сетей"
   ]
  },
  {
   "cell_type": "markdown",
   "id": "9865bcb6",
   "metadata": {},
   "source": [
    "Разбиение на тренировочные и тестовые данные."
   ]
  },
  {
   "cell_type": "code",
   "execution_count": 14,
   "id": "bd834736",
   "metadata": {},
   "outputs": [],
   "source": [
    "X = df.drop(columns=['log_target', 'target'], axis=1)\n",
    "y = df['log_target'].values\n",
    "\n",
    "X_train, X_test, y_train, y_test = train_test_split(X,\n",
    "                                                    y,\n",
    "                                                    test_size=TEST_SIZE,\n",
    "                                                    random_state=RANDOM_STATE)\n",
    "\n",
    "sc = StandardScaler()\n",
    "X_train_norm = sc.fit_transform(X_train)\n",
    "X_test_norm = sc.transform(X_test)"
   ]
  },
  {
   "cell_type": "markdown",
   "id": "5b6acb63",
   "metadata": {},
   "source": [
    "**5) Перед тем, как выбрать ту или иную модель, посмотреть:**\n",
    "\n",
    "- Если признаков много (большой датасет), например больше 500-700 (примерно), то отбираем те признаки, которые могут повлиять на модель, так как иначе может возрастать вычислительная сложность\n",
    "- Отбор признаков можно производить путем статист. подходов, с использованием моделей, либо перебором, подробнее о разных методах отбора признаков https://habr.com/ru/company/ods/blog/325422/\n",
    "- Есть ли линейная зависимость между таргет меткой и признаками в данных, если она есть, то можем решить задачу при помощи линейных методов\n",
    "- Если данных мало (примерно до 10000), то лучше использовать простые модели (не на основе бустинга над решаюшими деревьями)\n",
    "- Если зависимость нетривиальная, то используем модели на основе деревьев, + если большой датасет и есть необходимые мощности, то бустинги, ансамбли, стеккинг "
   ]
  },
  {
   "cell_type": "markdown",
   "id": "fcc36db0",
   "metadata": {},
   "source": [
    "**6) Выбор метрики:**\n",
    "\n",
    "- Для регрессии выбираем метрики, которые можем использовать при оптимизации, например MSE, RLMSE и др., MAE уже будет нерелевантно использоваться, так как при использовании различных методов оптимизации в ML моделях возникает проблемы при дифференцировании\n",
    "- Для классификации если нет дисбаланса, то можно даже смотреть на accuracy, при дисбалансе, f1, roc_auc, precision, recall, logloss (с ним аккуратнее, если есть значения вероятности равной 0/1) и др., здесь очень зависит от постановки самой задачи, подробнее часть метрик рассмотрена https://youtu.be/kAwHoNqjrYU"
   ]
  },
  {
   "cell_type": "code",
   "execution_count": 15,
   "id": "2c72d1b2",
   "metadata": {},
   "outputs": [],
   "source": [
    "def rmsle(y_true: np.ndarray, y_pred: np.ndarray) -> np.float64:\n",
    "    \"\"\"\n",
    "    The Root Mean Squared Log Error (RMSLE) metric \n",
    "    Логаритмическая ошибка средней квадратичной ошибки\n",
    "    \"\"\"\n",
    "    return np.sqrt(mean_squared_log_error(y_true, y_pred))\n",
    "\n",
    "\n",
    "def exp(y: np.ndarray) -> np.ndarray:\n",
    "    \"\"\"\n",
    "    Потенционирование (обратное логарифмирование) \n",
    "    \"\"\"\n",
    "    return np.exp(y) - 1"
   ]
  },
  {
   "cell_type": "markdown",
   "id": "6d76fa26",
   "metadata": {},
   "source": [
    "Всегда начинаем с Baseline (простых моделей без параметров), от которого будем дальше отталкиваться"
   ]
  },
  {
   "cell_type": "code",
   "execution_count": 16,
   "id": "0f6607d8",
   "metadata": {},
   "outputs": [
    {
     "name": "stdout",
     "output_type": "stream",
     "text": [
      "model: LinearRegression()\n",
      "RMSE: 5.327\n",
      "MAE: 3.497\n",
      "RMSLE: 0.198\n",
      "------------------------------ \n",
      "\n",
      "model: ElasticNet()\n",
      "RMSE: 11.378\n",
      "MAE: 7.976\n",
      "RMSLE: 0.412\n",
      "------------------------------ \n",
      "\n",
      "model: KNeighborsRegressor()\n",
      "RMSE: 6.111\n",
      "MAE: 3.874\n",
      "RMSLE: 0.197\n",
      "------------------------------ \n",
      "\n"
     ]
    }
   ],
   "source": [
    "models = [LinearRegression(), ElasticNet(), KNeighborsRegressor()]\n",
    "scores = dict()\n",
    "\n",
    "for m in models:\n",
    "    m.fit(X_train_norm, y_train)\n",
    "    y_pred = m.predict(X_test_norm)\n",
    "\n",
    "    print(f'model: {str(m)}')\n",
    "    print(f'RMSE: {round(np.sqrt(mean_squared_error(exp(y_test), exp(y_pred))), 3)}')\n",
    "    print(f'MAE: {round(mean_absolute_error(exp(y_test), exp(y_pred)), 3)}')\n",
    "    print(f'RMSLE: {round(rmsle(exp(y_test), exp(y_pred)), 3)}')\n",
    "    print('-'*30, '\\n')"
   ]
  },
  {
   "cell_type": "markdown",
   "id": "01aa566a",
   "metadata": {},
   "source": [
    "**6) Подбор оптимальных параметров, моделирование + отбор важных признаков:**\n",
    "\n",
    "- Для поиска оптимальных параметров модели. GridSearch: работает дольше, перебирает все варианты\n",
    "- Optuna и др подобные методы. Быстрее работает, есть возможность выбирать направление процесса оптимизации, можно продолжать процесс поиска параметров даже после первого поиска, можно обнаруживать бесперспективные наборы гиперпараметров перед обучением, тем самым сокращая время поиска\n",
    "- Используем также кросс-валидацию, чтобы избежать переобучения в том числе. Для дисбаланса обязательно брать методы со стратифицированной выборкой, например StratifiedKFold"
   ]
  },
  {
   "cell_type": "code",
   "execution_count": 17,
   "id": "759cb414",
   "metadata": {
    "scrolled": true
   },
   "outputs": [
    {
     "name": "stdout",
     "output_type": "stream",
     "text": [
      "Fitting 3 folds for each of 304 candidates, totalling 912 fits\n"
     ]
    },
    {
     "data": {
      "text/plain": [
       "GridSearchCV(cv=KFold(n_splits=3, random_state=None, shuffle=True),\n",
       "             estimator=KNeighborsRegressor(),\n",
       "             param_grid={'algorithm': ['auto', 'ball_tree', 'kd_tree', 'brute'],\n",
       "                         'metric': ['minkowski', 'euclidean'],\n",
       "                         'n_neighbors': range(1, 20),\n",
       "                         'weights': ['uniform', 'distance']},\n",
       "             scoring='neg_mean_absolute_error', verbose=1)"
      ]
     },
     "execution_count": 17,
     "metadata": {},
     "output_type": "execute_result"
    }
   ],
   "source": [
    "parameters_grid = {\n",
    "    'weights': ['uniform', 'distance'],\n",
    "    'algorithm': ['auto', 'ball_tree', 'kd_tree', 'brute'],\n",
    "    \"n_neighbors\": range(1, 20),\n",
    "    \"metric\": ['minkowski', 'euclidean']\n",
    "}\n",
    "\n",
    "\n",
    "model = KNeighborsRegressor()\n",
    "cv = KFold(n_splits=3, shuffle=True)\n",
    "\n",
    "grid_cv = GridSearchCV(model,\n",
    "                       parameters_grid,\n",
    "                       scoring='neg_mean_absolute_error',\n",
    "                       cv=cv,\n",
    "                       verbose=1)\n",
    "grid_cv.fit(X_train_norm, y_train)"
   ]
  },
  {
   "cell_type": "code",
   "execution_count": 18,
   "id": "16363fd8",
   "metadata": {},
   "outputs": [
    {
     "data": {
      "text/plain": [
       "{'algorithm': 'brute',\n",
       " 'metric': 'minkowski',\n",
       " 'n_neighbors': 7,\n",
       " 'weights': 'distance'}"
      ]
     },
     "execution_count": 18,
     "metadata": {},
     "output_type": "execute_result"
    }
   ],
   "source": [
    "grid_cv.best_params_"
   ]
  },
  {
   "cell_type": "code",
   "execution_count": 19,
   "id": "54c19425",
   "metadata": {},
   "outputs": [
    {
     "name": "stdout",
     "output_type": "stream",
     "text": [
      "id = 0, rmsle = 0.15, mae = 2.136 \n",
      "\n",
      "id = 1, rmsle = 0.151, mae = 2.615 \n",
      "\n",
      "id = 2, rmsle = 0.219, mae = 3.029 \n",
      "\n",
      "0.1732110219108347\n"
     ]
    }
   ],
   "source": [
    "cv = KFold(n_splits=N_FOLDS, shuffle=True, random_state=RANDOM_STATE)\n",
    "\n",
    "finish_test_preds = []\n",
    "\n",
    "mae_predicts = np.empty(N_FOLDS)\n",
    "rmsle_predicts = np.empty(N_FOLDS)\n",
    "\n",
    "for idx, (train_idx, test_idx) in enumerate(cv.split(X_train_norm, y_train)):\n",
    "    X_train_, X_val = X_train_norm[train_idx], X_train_norm[test_idx]\n",
    "    y_train_, y_val = y_train[train_idx], y_train[test_idx]\n",
    "\n",
    "    model = KNeighborsRegressor(**grid_cv.best_params_)\n",
    "    model.fit(X_train_, y_train_)\n",
    "\n",
    "    preds = model.predict(X_val)\n",
    "    preds_exp = np.exp(preds) - 1\n",
    "    y_val_exp = np.exp(y_val) - 1\n",
    "\n",
    "    mae_predicts[idx] = mean_absolute_error(y_val_exp, preds_exp)\n",
    "    rmsle_predicts[idx] = rmsle(y_val_exp, preds_exp)\n",
    "\n",
    "    preds_test = model.predict(X_test_norm)\n",
    "    finish_test_preds.append(preds_test)\n",
    "\n",
    "    print(\n",
    "        f\"id = {idx}, rmsle = {round(rmsle_predicts[idx], 3)}, mae = {round(mae_predicts[idx], 3)} \\n\")\n",
    "\n",
    "print(np.mean(rmsle_predicts))"
   ]
  },
  {
   "cell_type": "code",
   "execution_count": 20,
   "id": "02fa4671",
   "metadata": {},
   "outputs": [],
   "source": [
    "test_pred = np.mean(np.column_stack(finish_test_preds), axis=1)"
   ]
  },
  {
   "cell_type": "code",
   "execution_count": 21,
   "id": "11a1bbe1",
   "metadata": {},
   "outputs": [
    {
     "name": "stdout",
     "output_type": "stream",
     "text": [
      "RMSE: 5.722327163759877\n",
      "MAE: 3.7120477297572116\n",
      "RMSLE: 0.18089338690910592\n"
     ]
    }
   ],
   "source": [
    "print(f'RMSE: {np.sqrt(mean_squared_error(exp(y_test), exp(test_pred)))}')\n",
    "print(f'MAE: {mean_absolute_error(exp(y_test), exp(test_pred))}')\n",
    "print(f'RMSLE: {rmsle(exp(y_test), exp(test_pred))}')"
   ]
  },
  {
   "cell_type": "markdown",
   "id": "595dd56b",
   "metadata": {},
   "source": [
    "**7) Использование других моделей + итог:**\n",
    "    \n",
    "- Деревья решений, ансамбли, бустинги\n",
    "- Если большой набор данных, то также рекомендуется попробовать применить стеккинг с несколькими уровнями моделей\n",
    "- После чего сравнить результат и выбрать наиболее подходящую модель"
   ]
  },
  {
   "cell_type": "markdown",
   "id": "575ccb80",
   "metadata": {},
   "source": [
    "# Feature importance"
   ]
  },
  {
   "cell_type": "markdown",
   "id": "6fb0e9e3",
   "metadata": {},
   "source": [
    "Важных этап включающий в себя не только анализ ТОП-фичей, но также разбор результатов для подтверждения тех или иных гипотез, которые стояли перед бизнесом, интерпретация результатов\n",
    "\n",
    "**8) Подходы и этапы интерпретации:**\n",
    "- permutation_importance дает более релевантную картину с важными признаками, в отличие от большинства встроенных методов feature_importance (кроме линейных моделей, catboost ...)\n",
    "- SHAP, используется значения Шепли, есть возможность наглядно посмотреть, как значение каждого важного признака влияет на target\n",
    "- Обязательно делать выводы по гипотезам из EDA, что удалось опровергнуть или наоборот \n",
    "- Рассмотреть важные признаки более деально, построить графики и сделать выводы на основании значений и статистик важных признаков, например, если задача классификации, то сравнить средние для каждого класса того или иного признака (это может помочь бизнесу в ряде задач и принятии решения)"
   ]
  },
  {
   "cell_type": "code",
   "execution_count": 22,
   "id": "e0957187",
   "metadata": {},
   "outputs": [],
   "source": [
    "perm = permutation_importance(model, X_test_norm, y_test, n_repeats=15)"
   ]
  },
  {
   "cell_type": "code",
   "execution_count": 23,
   "id": "1ef15669",
   "metadata": {},
   "outputs": [],
   "source": [
    "perm_df = pd.DataFrame((perm['importances_mean'], X_train.columns.to_list()),\n",
    "                       index=('Score', 'Features'))\n",
    "perm_df = perm_df.T\n",
    "perm_df = perm_df.sort_values(ascending=False, by='Score')"
   ]
  },
  {
   "cell_type": "code",
   "execution_count": 24,
   "id": "61d8ed7b",
   "metadata": {},
   "outputs": [
    {
     "data": {
      "text/html": [
       "<div>\n",
       "<style scoped>\n",
       "    .dataframe tbody tr th:only-of-type {\n",
       "        vertical-align: middle;\n",
       "    }\n",
       "\n",
       "    .dataframe tbody tr th {\n",
       "        vertical-align: top;\n",
       "    }\n",
       "\n",
       "    .dataframe thead th {\n",
       "        text-align: right;\n",
       "    }\n",
       "</style>\n",
       "<table border=\"1\" class=\"dataframe\">\n",
       "  <thead>\n",
       "    <tr style=\"text-align: right;\">\n",
       "      <th></th>\n",
       "      <th>Score</th>\n",
       "      <th>Features</th>\n",
       "    </tr>\n",
       "  </thead>\n",
       "  <tbody>\n",
       "    <tr>\n",
       "      <th>5</th>\n",
       "      <td>0.316573</td>\n",
       "      <td>RM</td>\n",
       "    </tr>\n",
       "    <tr>\n",
       "      <th>12</th>\n",
       "      <td>0.1369</td>\n",
       "      <td>LSTAT</td>\n",
       "    </tr>\n",
       "    <tr>\n",
       "      <th>10</th>\n",
       "      <td>0.041295</td>\n",
       "      <td>PTRATIO</td>\n",
       "    </tr>\n",
       "    <tr>\n",
       "      <th>3</th>\n",
       "      <td>0.033632</td>\n",
       "      <td>CHAS</td>\n",
       "    </tr>\n",
       "    <tr>\n",
       "      <th>6</th>\n",
       "      <td>0.032073</td>\n",
       "      <td>AGE</td>\n",
       "    </tr>\n",
       "    <tr>\n",
       "      <th>7</th>\n",
       "      <td>0.025451</td>\n",
       "      <td>DIS</td>\n",
       "    </tr>\n",
       "    <tr>\n",
       "      <th>0</th>\n",
       "      <td>0.021194</td>\n",
       "      <td>CRIM</td>\n",
       "    </tr>\n",
       "    <tr>\n",
       "      <th>4</th>\n",
       "      <td>0.019957</td>\n",
       "      <td>NOX</td>\n",
       "    </tr>\n",
       "    <tr>\n",
       "      <th>9</th>\n",
       "      <td>0.016643</td>\n",
       "      <td>TAX</td>\n",
       "    </tr>\n",
       "    <tr>\n",
       "      <th>11</th>\n",
       "      <td>0.013322</td>\n",
       "      <td>B</td>\n",
       "    </tr>\n",
       "  </tbody>\n",
       "</table>\n",
       "</div>"
      ],
      "text/plain": [
       "       Score Features\n",
       "5   0.316573       RM\n",
       "12    0.1369    LSTAT\n",
       "10  0.041295  PTRATIO\n",
       "3   0.033632     CHAS\n",
       "6   0.032073      AGE\n",
       "7   0.025451      DIS\n",
       "0   0.021194     CRIM\n",
       "4   0.019957      NOX\n",
       "9   0.016643      TAX\n",
       "11  0.013322        B"
      ]
     },
     "execution_count": 24,
     "metadata": {},
     "output_type": "execute_result"
    }
   ],
   "source": [
    "perm_df[:10]"
   ]
  },
  {
   "cell_type": "code",
   "execution_count": 25,
   "id": "73dea129",
   "metadata": {
    "scrolled": false
   },
   "outputs": [
    {
     "data": {
      "image/png": "[encoded data removed]",
      "text/plain": [
       "<Figure size 1440x504 with 1 Axes>"
      ]
     },
     "metadata": {
      "needs_background": "light"
     },
     "output_type": "display_data"
    }
   ],
   "source": [
    "plt.figure(figsize=(20, 7))\n",
    "\n",
    "sns.set(font_scale=1.5)\n",
    "sns.barplot(x=\"Features\", y=\"Score\", data=perm_df[:10])\n",
    "plt.title('ТОП-10 важных признаков')\n",
    "\n",
    "plt.show()"
   ]
  },
  {
   "cell_type": "code",
   "execution_count": null,
   "id": "a4836c93",
   "metadata": {},
   "outputs": [
    {
     "data": {
      "application/vnd.jupyter.widget-view+json": {
       "model_id": "fe04d96f2b0f42238b85d1fcc82a3010",
       "version_major": 2,
       "version_minor": 0
      },
      "text/plain": [
       "  0%|          | 0/102 [00:00<?, ?it/s]"
      ]
     },
     "metadata": {},
     "output_type": "display_data"
    }
   ],
   "source": [
    "X_train_summary = shap.kmeans(X_train_norm, 2)\n",
    "\n",
    "explainer = shap.KernelExplainer(model.predict, X_train_summary)\n",
    "shap_values = explainer.shap_values(X_test_norm)"
   ]
  },
  {
   "cell_type": "code",
   "execution_count": null,
   "id": "89583849",
   "metadata": {},
   "outputs": [],
   "source": [
    "shap.summary_plot(shap_values, X_test)"
   ]
  },
  {
   "cell_type": "code",
   "execution_count": null,
   "id": "f0b57df2",
   "metadata": {},
   "outputs": [],
   "source": [
    "plt.figure(figsize=(8, 6))\n",
    "\n",
    "sns.scatterplot(x='RM', y='target', data=df)\n",
    "plt.title('Зависимость между RM и target')\n",
    "plt.show()"
   ]
  },
  {
   "cell_type": "markdown",
   "id": "23d91af8",
   "metadata": {},
   "source": [
    "# Результаты"
   ]
  },
  {
   "cell_type": "markdown",
   "id": "d20f61fd",
   "metadata": {},
   "source": [
    "- 1) ...\n",
    "- 2) ...\n",
    "..."
   ]
  }
 ],
 "metadata": {
  "kernelspec": {
   "display_name": "Python 3 (ipykernel)",
   "language": "python",
   "name": "python3"
  },
  "language_info": {
   "codemirror_mode": {
    "name": "ipython",
    "version": 3
   },
   "file_extension": ".py",
   "mimetype": "text/x-python",
   "name": "python",
   "nbconvert_exporter": "python",
   "pygments_lexer": "ipython3",
   "version": "3.8.8"
  },
  "toc": {
   "base_numbering": 1,
   "nav_menu": {},
   "number_sections": true,
   "sideBar": true,
   "skip_h1_title": false,
   "title_cell": "Table of Contents",
   "title_sidebar": "Contents",
   "toc_cell": false,
   "toc_position": {
    "height": "calc(100% - 180px)",
    "left": "10px",
    "top": "150px",
    "width": "165px"
   },
   "toc_section_display": true,
   "toc_window_display": true
  }
 },
 "nbformat": 4,
 "nbformat_minor": 5
}
